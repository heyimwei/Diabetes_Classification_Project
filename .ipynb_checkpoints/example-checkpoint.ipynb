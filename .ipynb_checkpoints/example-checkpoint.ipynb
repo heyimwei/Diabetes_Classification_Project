{
 "cells": [
  {
   "cell_type": "code",
   "execution_count": 1,
   "metadata": {
    "_cell_guid": "b1076dfc-b9ad-4769-8c92-a6c4dae69d19",
    "_uuid": "8f2839f25d086af736a60e9eeb907d3b93b6e0e5",
    "execution": {
     "iopub.execute_input": "2022-10-19T09:36:10.726127Z",
     "iopub.status.busy": "2022-10-19T09:36:10.725264Z",
     "iopub.status.idle": "2022-10-19T09:36:10.741283Z",
     "shell.execute_reply": "2022-10-19T09:36:10.739554Z",
     "shell.execute_reply.started": "2022-10-19T09:36:10.726081Z"
    }
   },
   "outputs": [],
   "source": [
    "# This Python 3 environment comes with many helpful analytics libraries installed\n",
    "# It is defined by the kaggle/python Docker image: https://github.com/kaggle/docker-python\n",
    "# For example, here's several helpful packages to load\n",
    "\n",
    "import numpy as np # linear algebra\n",
    "import pandas as pd # data processing, CSV file I/O (e.g. pd.read_csv)\n",
    "\n",
    "# Input data files are available in the read-only \"../input/\" directory\n",
    "# For example, running this (by clicking run or pressing Shift+Enter) will list all files under the input directory\n",
    "\n",
    "import os\n",
    "for dirname, _, filenames in os.walk('/kaggle/input'):\n",
    "    for filename in filenames:\n",
    "        print(os.path.join(dirname, filename))\n",
    "\n",
    "# You can write up to 20GB to the current directory (/kaggle/working/) that gets preserved as output when you create a version using \"Save & Run All\" \n",
    "# You can also write temporary files to /kaggle/temp/, but they won't be saved outside of the current session"
   ]
  },
  {
   "cell_type": "code",
   "execution_count": 2,
   "metadata": {
    "execution": {
     "iopub.execute_input": "2022-10-19T09:36:10.744224Z",
     "iopub.status.busy": "2022-10-19T09:36:10.743848Z",
     "iopub.status.idle": "2022-10-19T09:36:10.748608Z",
     "shell.execute_reply": "2022-10-19T09:36:10.747527Z",
     "shell.execute_reply.started": "2022-10-19T09:36:10.74419Z"
    }
   },
   "outputs": [],
   "source": [
    "import numpy as np \n",
    "import pandas as pd "
   ]
  },
  {
   "cell_type": "code",
   "execution_count": 4,
   "metadata": {
    "execution": {
     "iopub.execute_input": "2022-10-19T09:36:10.755717Z",
     "iopub.status.busy": "2022-10-19T09:36:10.755279Z",
     "iopub.status.idle": "2022-10-19T09:36:10.793498Z",
     "shell.execute_reply": "2022-10-19T09:36:10.791883Z",
     "shell.execute_reply.started": "2022-10-19T09:36:10.755682Z"
    }
   },
   "outputs": [
    {
     "data": {
      "text/html": [
       "<div>\n",
       "<style scoped>\n",
       "    .dataframe tbody tr th:only-of-type {\n",
       "        vertical-align: middle;\n",
       "    }\n",
       "\n",
       "    .dataframe tbody tr th {\n",
       "        vertical-align: top;\n",
       "    }\n",
       "\n",
       "    .dataframe thead th {\n",
       "        text-align: right;\n",
       "    }\n",
       "</style>\n",
       "<table border=\"1\" class=\"dataframe\">\n",
       "  <thead>\n",
       "    <tr style=\"text-align: right;\">\n",
       "      <th></th>\n",
       "      <th>p_id</th>\n",
       "      <th>no_times_pregnant</th>\n",
       "      <th>glucose_concentration</th>\n",
       "      <th>blood_pressure</th>\n",
       "      <th>skin_fold_thickness</th>\n",
       "      <th>serum_insulin</th>\n",
       "      <th>bmi</th>\n",
       "      <th>diabetes pedigree</th>\n",
       "      <th>age</th>\n",
       "      <th>diabetes</th>\n",
       "    </tr>\n",
       "  </thead>\n",
       "  <tbody>\n",
       "    <tr>\n",
       "      <th>0</th>\n",
       "      <td>316</td>\n",
       "      <td>2</td>\n",
       "      <td>112</td>\n",
       "      <td>68</td>\n",
       "      <td>22</td>\n",
       "      <td>94</td>\n",
       "      <td>34.1</td>\n",
       "      <td>0.315</td>\n",
       "      <td>26</td>\n",
       "      <td>0</td>\n",
       "    </tr>\n",
       "    <tr>\n",
       "      <th>1</th>\n",
       "      <td>25</td>\n",
       "      <td>11</td>\n",
       "      <td>143</td>\n",
       "      <td>94</td>\n",
       "      <td>33</td>\n",
       "      <td>146</td>\n",
       "      <td>36.6</td>\n",
       "      <td>0.254</td>\n",
       "      <td>51</td>\n",
       "      <td>1</td>\n",
       "    </tr>\n",
       "    <tr>\n",
       "      <th>2</th>\n",
       "      <td>710</td>\n",
       "      <td>2</td>\n",
       "      <td>93</td>\n",
       "      <td>64</td>\n",
       "      <td>32</td>\n",
       "      <td>160</td>\n",
       "      <td>38.0</td>\n",
       "      <td>0.674</td>\n",
       "      <td>23</td>\n",
       "      <td>1</td>\n",
       "    </tr>\n",
       "    <tr>\n",
       "      <th>3</th>\n",
       "      <td>658</td>\n",
       "      <td>1</td>\n",
       "      <td>120</td>\n",
       "      <td>80</td>\n",
       "      <td>48</td>\n",
       "      <td>200</td>\n",
       "      <td>38.9</td>\n",
       "      <td>1.162</td>\n",
       "      <td>41</td>\n",
       "      <td>0</td>\n",
       "    </tr>\n",
       "    <tr>\n",
       "      <th>4</th>\n",
       "      <td>542</td>\n",
       "      <td>3</td>\n",
       "      <td>128</td>\n",
       "      <td>72</td>\n",
       "      <td>25</td>\n",
       "      <td>190</td>\n",
       "      <td>32.4</td>\n",
       "      <td>0.549</td>\n",
       "      <td>27</td>\n",
       "      <td>1</td>\n",
       "    </tr>\n",
       "  </tbody>\n",
       "</table>\n",
       "</div>"
      ],
      "text/plain": [
       "   p_id  no_times_pregnant  glucose_concentration  blood_pressure  \\\n",
       "0   316                  2                    112              68   \n",
       "1    25                 11                    143              94   \n",
       "2   710                  2                     93              64   \n",
       "3   658                  1                    120              80   \n",
       "4   542                  3                    128              72   \n",
       "\n",
       "   skin_fold_thickness  serum_insulin   bmi  diabetes pedigree  age  diabetes  \n",
       "0                   22             94  34.1              0.315   26         0  \n",
       "1                   33            146  36.6              0.254   51         1  \n",
       "2                   32            160  38.0              0.674   23         1  \n",
       "3                   48            200  38.9              1.162   41         0  \n",
       "4                   25            190  32.4              0.549   27         1  "
      ]
     },
     "execution_count": 4,
     "metadata": {},
     "output_type": "execute_result"
    }
   ],
   "source": [
    "data = pd.read_csv('train.csv')\n",
    "test = pd.read_csv('test.csv')\n",
    "sample = pd.read_csv('sample_submission.csv')\n",
    "data.head()"
   ]
  },
  {
   "cell_type": "code",
   "execution_count": 5,
   "metadata": {
    "execution": {
     "iopub.execute_input": "2022-10-19T09:36:10.796776Z",
     "iopub.status.busy": "2022-10-19T09:36:10.79586Z",
     "iopub.status.idle": "2022-10-19T09:36:10.806495Z",
     "shell.execute_reply": "2022-10-19T09:36:10.804993Z",
     "shell.execute_reply.started": "2022-10-19T09:36:10.796722Z"
    }
   },
   "outputs": [],
   "source": [
    "data.drop('p_id',axis=1,inplace = True)\n",
    "test_ids = test[\"p_id\"]"
   ]
  },
  {
   "cell_type": "code",
   "execution_count": 6,
   "metadata": {
    "execution": {
     "iopub.execute_input": "2022-10-19T09:36:10.80938Z",
     "iopub.status.busy": "2022-10-19T09:36:10.808525Z",
     "iopub.status.idle": "2022-10-19T09:36:10.821026Z",
     "shell.execute_reply": "2022-10-19T09:36:10.819291Z",
     "shell.execute_reply.started": "2022-10-19T09:36:10.809324Z"
    }
   },
   "outputs": [],
   "source": [
    "x = data.drop('diabetes',axis=1)\n",
    "y = data.diabetes"
   ]
  },
  {
   "cell_type": "code",
   "execution_count": 7,
   "metadata": {
    "execution": {
     "iopub.execute_input": "2022-10-19T09:36:10.824446Z",
     "iopub.status.busy": "2022-10-19T09:36:10.824053Z",
     "iopub.status.idle": "2022-10-19T09:36:10.833881Z",
     "shell.execute_reply": "2022-10-19T09:36:10.832906Z",
     "shell.execute_reply.started": "2022-10-19T09:36:10.8244Z"
    }
   },
   "outputs": [],
   "source": [
    "from sklearn.model_selection import train_test_split\n",
    "x_train,x_test,y_train,y_test=train_test_split(x,y,test_size=0.3,random_state=30)\n"
   ]
  },
  {
   "cell_type": "code",
   "execution_count": 8,
   "metadata": {
    "execution": {
     "iopub.execute_input": "2022-10-19T09:36:10.836136Z",
     "iopub.status.busy": "2022-10-19T09:36:10.835136Z",
     "iopub.status.idle": "2022-10-19T09:36:10.845815Z",
     "shell.execute_reply": "2022-10-19T09:36:10.844312Z",
     "shell.execute_reply.started": "2022-10-19T09:36:10.836099Z"
    }
   },
   "outputs": [],
   "source": [
    "from sklearn.linear_model import LogisticRegression\n",
    "from sklearn import tree\n",
    "from sklearn.svm import SVC\n",
    "from sklearn.ensemble import RandomForestRegressor\n"
   ]
  },
  {
   "cell_type": "code",
   "execution_count": 9,
   "metadata": {
    "execution": {
     "iopub.execute_input": "2022-10-19T09:36:10.848739Z",
     "iopub.status.busy": "2022-10-19T09:36:10.847405Z",
     "iopub.status.idle": "2022-10-19T09:36:10.857924Z",
     "shell.execute_reply": "2022-10-19T09:36:10.856299Z",
     "shell.execute_reply.started": "2022-10-19T09:36:10.848678Z"
    }
   },
   "outputs": [],
   "source": [
    " model = LogisticRegression()\n",
    "# model = tree.DecisionTreeClassifier()\n",
    "# model = SVC()\n",
    "#model = RandomForestRegressor(n_estimators = 100, random_state = 0)"
   ]
  },
  {
   "cell_type": "code",
   "execution_count": 10,
   "metadata": {
    "execution": {
     "iopub.execute_input": "2022-10-19T09:36:10.861493Z",
     "iopub.status.busy": "2022-10-19T09:36:10.860039Z",
     "iopub.status.idle": "2022-10-19T09:36:10.915342Z",
     "shell.execute_reply": "2022-10-19T09:36:10.914094Z",
     "shell.execute_reply.started": "2022-10-19T09:36:10.861409Z"
    }
   },
   "outputs": [
    {
     "name": "stderr",
     "output_type": "stream",
     "text": [
      "C:\\Users\\user\\anaconda3\\Lib\\site-packages\\sklearn\\linear_model\\_logistic.py:460: ConvergenceWarning: lbfgs failed to converge (status=1):\n",
      "STOP: TOTAL NO. of ITERATIONS REACHED LIMIT.\n",
      "\n",
      "Increase the number of iterations (max_iter) or scale the data as shown in:\n",
      "    https://scikit-learn.org/stable/modules/preprocessing.html\n",
      "Please also refer to the documentation for alternative solver options:\n",
      "    https://scikit-learn.org/stable/modules/linear_model.html#logistic-regression\n",
      "  n_iter_i = _check_optimize_result(\n"
     ]
    },
    {
     "data": {
      "text/html": [
       "<div>\n",
       "<style scoped>\n",
       "    .dataframe tbody tr th:only-of-type {\n",
       "        vertical-align: middle;\n",
       "    }\n",
       "\n",
       "    .dataframe tbody tr th {\n",
       "        vertical-align: top;\n",
       "    }\n",
       "\n",
       "    .dataframe thead th {\n",
       "        text-align: right;\n",
       "    }\n",
       "</style>\n",
       "<table border=\"1\" class=\"dataframe\">\n",
       "  <thead>\n",
       "    <tr style=\"text-align: right;\">\n",
       "      <th></th>\n",
       "      <th>p_id</th>\n",
       "      <th>no_times_pregnant</th>\n",
       "      <th>glucose_concentration</th>\n",
       "      <th>blood_pressure</th>\n",
       "      <th>skin_fold_thickness</th>\n",
       "      <th>serum_insulin</th>\n",
       "      <th>bmi</th>\n",
       "      <th>diabetes pedigree</th>\n",
       "      <th>age</th>\n",
       "    </tr>\n",
       "  </thead>\n",
       "  <tbody>\n",
       "    <tr>\n",
       "      <th>0</th>\n",
       "      <td>437</td>\n",
       "      <td>12</td>\n",
       "      <td>140</td>\n",
       "      <td>85</td>\n",
       "      <td>33</td>\n",
       "      <td>0</td>\n",
       "      <td>37.4</td>\n",
       "      <td>0.244</td>\n",
       "      <td>41</td>\n",
       "    </tr>\n",
       "    <tr>\n",
       "      <th>1</th>\n",
       "      <td>411</td>\n",
       "      <td>6</td>\n",
       "      <td>102</td>\n",
       "      <td>90</td>\n",
       "      <td>39</td>\n",
       "      <td>0</td>\n",
       "      <td>35.7</td>\n",
       "      <td>0.674</td>\n",
       "      <td>28</td>\n",
       "    </tr>\n",
       "    <tr>\n",
       "      <th>2</th>\n",
       "      <td>639</td>\n",
       "      <td>7</td>\n",
       "      <td>97</td>\n",
       "      <td>76</td>\n",
       "      <td>32</td>\n",
       "      <td>91</td>\n",
       "      <td>40.9</td>\n",
       "      <td>0.871</td>\n",
       "      <td>32</td>\n",
       "    </tr>\n",
       "    <tr>\n",
       "      <th>3</th>\n",
       "      <td>213</td>\n",
       "      <td>7</td>\n",
       "      <td>179</td>\n",
       "      <td>95</td>\n",
       "      <td>31</td>\n",
       "      <td>0</td>\n",
       "      <td>34.2</td>\n",
       "      <td>0.164</td>\n",
       "      <td>60</td>\n",
       "    </tr>\n",
       "    <tr>\n",
       "      <th>4</th>\n",
       "      <td>181</td>\n",
       "      <td>6</td>\n",
       "      <td>87</td>\n",
       "      <td>80</td>\n",
       "      <td>0</td>\n",
       "      <td>0</td>\n",
       "      <td>23.2</td>\n",
       "      <td>0.084</td>\n",
       "      <td>32</td>\n",
       "    </tr>\n",
       "  </tbody>\n",
       "</table>\n",
       "</div>"
      ],
      "text/plain": [
       "   p_id  no_times_pregnant  glucose_concentration  blood_pressure  \\\n",
       "0   437                 12                    140              85   \n",
       "1   411                  6                    102              90   \n",
       "2   639                  7                     97              76   \n",
       "3   213                  7                    179              95   \n",
       "4   181                  6                     87              80   \n",
       "\n",
       "   skin_fold_thickness  serum_insulin   bmi  diabetes pedigree  age  \n",
       "0                   33              0  37.4              0.244   41  \n",
       "1                   39              0  35.7              0.674   28  \n",
       "2                   32             91  40.9              0.871   32  \n",
       "3                   31              0  34.2              0.164   60  \n",
       "4                    0              0  23.2              0.084   32  "
      ]
     },
     "execution_count": 10,
     "metadata": {},
     "output_type": "execute_result"
    }
   ],
   "source": [
    "\n",
    "model.fit(x_train, y_train)\n",
    "\n",
    "model.score(x_test, y_test)\n",
    "\n",
    "test.head()\n",
    "\n",
    "\n"
   ]
  },
  {
   "cell_type": "code",
   "execution_count": 11,
   "metadata": {
    "execution": {
     "iopub.execute_input": "2022-10-19T09:36:10.920282Z",
     "iopub.status.busy": "2022-10-19T09:36:10.919064Z",
     "iopub.status.idle": "2022-10-19T09:36:10.929745Z",
     "shell.execute_reply": "2022-10-19T09:36:10.928515Z",
     "shell.execute_reply.started": "2022-10-19T09:36:10.920226Z"
    }
   },
   "outputs": [],
   "source": [
    "p=test.drop(['p_id'],axis=1)\n",
    "rec = model.predict(p)"
   ]
  },
  {
   "cell_type": "code",
   "execution_count": 12,
   "metadata": {
    "execution": {
     "iopub.execute_input": "2022-10-19T09:36:10.932512Z",
     "iopub.status.busy": "2022-10-19T09:36:10.931677Z",
     "iopub.status.idle": "2022-10-19T09:36:10.94198Z",
     "shell.execute_reply": "2022-10-19T09:36:10.940926Z",
     "shell.execute_reply.started": "2022-10-19T09:36:10.932443Z"
    }
   },
   "outputs": [],
   "source": [
    "df = pd.DataFrame({\"p_id\": test_ids.values,\n",
    "                   \"diabetes\":rec,\n",
    "                  })"
   ]
  },
  {
   "cell_type": "code",
   "execution_count": 13,
   "metadata": {},
   "outputs": [],
   "source": [
    "df.to_csv(\"submission.csv\", index=False)"
   ]
  }
 ],
 "metadata": {
  "kaggle": {
   "accelerator": "none",
   "dataSources": [
    {
     "databundleVersionId": 267240,
     "sourceId": 12652,
     "sourceType": "competition"
    }
   ],
   "dockerImageVersionId": 30260,
   "isGpuEnabled": false,
   "isInternetEnabled": false,
   "language": "python",
   "sourceType": "notebook"
  },
  "kernelspec": {
   "display_name": "Python 3 (ipykernel)",
   "language": "python",
   "name": "python3"
  },
  "language_info": {
   "codemirror_mode": {
    "name": "ipython",
    "version": 3
   },
   "file_extension": ".py",
   "mimetype": "text/x-python",
   "name": "python",
   "nbconvert_exporter": "python",
   "pygments_lexer": "ipython3",
   "version": "3.11.5"
  }
 },
 "nbformat": 4,
 "nbformat_minor": 4
}
